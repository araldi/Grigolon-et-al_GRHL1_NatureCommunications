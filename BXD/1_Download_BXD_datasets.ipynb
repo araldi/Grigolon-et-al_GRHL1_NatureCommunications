{
 "cells": [
  {
   "cell_type": "markdown",
   "metadata": {},
   "source": [
    "# Download expression and phenotype data from BXD dataset"
   ]
  },
  {
   "cell_type": "markdown",
   "metadata": {},
   "source": [
    "This notebook is used to download expression and phenotype data from the BXD dataset.\n",
    "\n",
    "It uses the API of Gene Networks:\n",
    "http://gn2-zach.genenetwork.org/api/\n",
    "\n",
    "Instructions are here: https://github.com/genenetwork/gn-docs/blob/master/api/GN2-REST-API.md\n",
    "\n",
    "\n",
    "Datasets selected from:\n"
   ]
  },
  {
   "cell_type": "code",
   "execution_count": null,
   "metadata": {},
   "outputs": [],
   "source": [
    "#setup\n",
    "\n",
    "working_directory=your_working_directory_here\n",
    "\n",
    "output_directory=your_output_directory_here\n"
   ]
  },
  {
   "cell_type": "markdown",
   "metadata": {},
   "source": [
    "### Phenotypes of interest"
   ]
  },
  {
   "cell_type": "markdown",
   "metadata": {},
   "source": [
    "* 21450  Aging, metabolism: Mean life span, longevity of females, combined data, on standard chow diet (Harlan Teklad 2018 chow diet, 6.2% fat) and on high fat diet (Harlan Teklad 06414, 18.4% protein, 60.3% calories from fat, 5.1 kcal/g) at UTHSC on a 12 hr light cycle in polypropylene cages (145 in2) with up to 10 animals/cage, Harlan Teklad 7087 soft cob bedding. Updated May 2019 [days]\n",
    "\n",
    "* 17661 Metabolism: Glycemia during oral glucose tolerance test (OGTT), overall, chow diet (6% kCal/fat Harlan.2918), males [AUC] (EPFL LISP3 Cohort)\n",
    "\n",
    "* 17662 Metabolism: Glycemia during oral glucose tolerance test (OGTT), overall, high fat diet (60% kCal/fat HarlanTD.06414), males [AUC] (EPFL LISP3 Cohort)\n",
    "\n",
    "* 17663 Metabolism: Insulin response from oral glucose tolerance test (OGTT), at 17 weeks of age, chow diet (6% kCal/fat Harlan.2918), males [AUC] (EPFL LISP3 Cohort)\t\n",
    "\n",
    "* 17664 Metabolism: Insulin response from oral glucose tolerance test (OGTT), at 17 weeks of age, high fat diet (60% kCal/fat HarlanTD.06414), males [AUC] (EPFL LISP3 Cohort)\t\n",
    "\n",
    "* 17603 Metabolism, morphology: Body weight percentage gain 8-28 weeks, chow diet (6% kCal/fat Harlan.2918), males [%] (EPFL LISP3 Cohort)\n",
    "\n",
    "* 17604 Metabolism, morphology: Body weight percentage gain 8-28 weeks, high fat diet (60% kCal/fat HarlanTD.06414), males [%] (EPFL LISP3 Cohort)"
   ]
  },
  {
   "cell_type": "code",
   "execution_count": null,
   "metadata": {},
   "outputs": [],
   "source": [
    "# prepare a list of phenotypes of interest\n",
    "echo '21450\n",
    "17663\n",
    "17664\n",
    "17661\n",
    "17662\n",
    "17663\n",
    "17664 \n",
    "17603\n",
    "17604\n",
    "' > $working_directory/phenotypes_of_interest"
   ]
  },
  {
   "cell_type": "code",
   "execution_count": null,
   "metadata": {
    "scrolled": true
   },
   "outputs": [],
   "source": [
    "#download the phenotype data with API and curl\n",
    "phenotypes=$working_directory/phenotypes_of_interest\n",
    "\n",
    "while read p; do\n",
    "    curl  http://gn2-zach.genenetwork.org/api/v_pre1/sample_data/bxd/$p -o $output_directory/Phenotype_$p\n",
    "done < ${phenotypes}\n"
   ]
  },
  {
   "cell_type": "markdown",
   "metadata": {},
   "source": [
    "### RNA expression datasets of interest"
   ]
  },
  {
   "cell_type": "markdown",
   "metadata": {},
   "source": [
    "Datasets of interest:\n",
    "\n",
    "\n",
    "* **muscleRMA** \n",
    "\n",
    "EPFLMouseMuscleCDRMAEx1112\n",
    "\n",
    "EPFLMouseMuscleCDRMA1211\n",
    "\n",
    "* **liverRMA**\n",
    "\n",
    "EPFLMouseLiverCDEx0413\n",
    "\n",
    "EPFLMouseLiverCDRMA0413\n",
    "\n",
    "EPFLMouseLiverCDRMA0818\n",
    "\n",
    "\n",
    "* **muscleHFD_RMA** \n",
    "\n",
    "EPFLMouseMuscleHFDRMAEx1112\n",
    "\n",
    "EPFLMouseMuscleHFDRMA1211\n",
    "\n",
    "\n",
    "* **liverHFD_RMA** \n",
    "\n",
    "\n",
    "EPFLMouseLiverHFDRMA0818\n",
    "\n",
    "EPFLMouseLiverHFDRMA0413\n",
    "\n"
   ]
  },
  {
   "cell_type": "code",
   "execution_count": null,
   "metadata": {},
   "outputs": [],
   "source": [
    "echo 'EPFLMouseMuscleCDRMAEx1112\n",
    "EPFLMouseMuscleCDRMA1211\n",
    "EPFLMouseLiverCDEx0413\n",
    "EPFLMouseLiverCDRMA0413\n",
    "EPFLMouseLiverCDRMA0818\n",
    "EPFLMouseMuscleHFDRMAEx1112\n",
    "EPFLMouseMuscleHFDRMA1211\n",
    "EPFLMouseLiverHFDRMA0818\n",
    "EPFLMouseLiverHFDRMA0413' > $working_directory/datasets_to_download.txt"
   ]
  },
  {
   "cell_type": "code",
   "execution_count": null,
   "metadata": {},
   "outputs": [],
   "source": [
    "# the files are big therefore this takes a while, better submit a job to a HPC cluster if available \n",
    "\n",
    "datasets=$working_directory/datasets_to_download.txt\n",
    "\n",
    "while read p; do\n",
    "    curl http://gn2-zach.genenetwork.org/api/v_pre1/sample_data/$p -o $output_directory/$p\n",
    "done < ${datasets}\n",
    "\n"
   ]
  }
 ],
 "metadata": {
  "kernelspec": {
   "display_name": "Bash",
   "language": "bash",
   "name": "bash"
  },
  "language_info": {
   "codemirror_mode": "shell",
   "file_extension": ".sh",
   "mimetype": "text/x-sh",
   "name": "bash"
  }
 },
 "nbformat": 4,
 "nbformat_minor": 2
}
