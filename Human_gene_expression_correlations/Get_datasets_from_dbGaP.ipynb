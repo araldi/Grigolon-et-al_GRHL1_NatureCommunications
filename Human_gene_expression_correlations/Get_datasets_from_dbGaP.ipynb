{
 "cells": [
  {
   "cell_type": "markdown",
   "metadata": {},
   "source": [
    "# Get data from dbGaP"
   ]
  },
  {
   "cell_type": "markdown",
   "metadata": {},
   "source": [
    "GTEX and FUSION data are released after application to dbGaP.\n",
    " \n",
    "These are instructions to download data from dbGaP after approval of the application: https://dbgap.ncbi.nlm.nih.gov/"
   ]
  },
  {
   "cell_type": "markdown",
   "metadata": {},
   "source": [
    "### Download Aspera Connect"
   ]
  },
  {
   "cell_type": "code",
   "execution_count": null,
   "metadata": {
    "scrolled": true
   },
   "outputs": [],
   "source": [
    "destination_directory=/destination/directory/here/\n",
    "\n",
    "cd $destination_directory\n",
    "\n",
    "# get the updated link here:\n",
    "# http://downloads.asperasoft.com/connect/\n",
    "wget https://d3gcli72yxqn2z.cloudfront.net/connect_latest/v4/bin/ibm-aspera-connect_4.1.1.73_linux.tar.gz\n",
    "\n",
    "tar -xvf ibm-aspera-connect_4.1.1.73_linux.tar.gz\n",
    "sh ibm-aspera-connect_4.1.1.73_linux.sh\n"
   ]
  },
  {
   "cell_type": "markdown",
   "metadata": {},
   "source": [
    "### Download SRA Toolkit"
   ]
  },
  {
   "cell_type": "code",
   "execution_count": null,
   "metadata": {},
   "outputs": [],
   "source": [
    "# get the updated link and instructions here:\n",
    "# https://github.com/ncbi/sra-tools/wiki/01.-Downloading-SRA-Toolkit\n",
    "\n",
    "wget http://ftp-trace.ncbi.nlm.nih.gov/sra/sdk/current/sratoolkit.current-centos_linux64.tar.gz\n",
    "tar -vxzf sratoolkit.current-centos_linux64.tar.gz"
   ]
  },
  {
   "cell_type": "markdown",
   "metadata": {},
   "source": [
    "### Repository key"
   ]
  },
  {
   "cell_type": "markdown",
   "metadata": {},
   "source": [
    "Get the dbGaP repository key as instructed here:\n",
    "https://www.ncbi.nlm.nih.gov/books/NBK570250/\n",
    "\n",
    "\"dbGaP repository key is a dbGaP project wide security token required for configuring NCBI SRA toolkit and decryption tools. The key is provided in a file with suffix “.ngc”. It can be obtained from two places in PI’s dbGaP account.\n",
    "\n",
    "1) The first place is the project page under “My Projects” tab, through a link named “get dbGaP repository key” in the “Actions” column. The key downloaded from here is valid to all downloaded data under the project.\n",
    "\n",
    "2) The second place is the download page under “Downloads” tab, through a link named “get dbGaP repository key in the “Actions” column.\""
   ]
  },
  {
   "cell_type": "code",
   "execution_count": null,
   "metadata": {},
   "outputs": [],
   "source": [
    "# upload on the appropriate place, in this case here:\n",
    "repository_key=$destination_directory/prj_12345.ngc\n"
   ]
  },
  {
   "cell_type": "markdown",
   "metadata": {},
   "source": [
    "### Request datasets through the download section of the application portal\n",
    "Copy the link to download. It should look like this:\n",
    "\n",
    "\"%ASPERA_CONNECT_DIR%\\bin\\ascp\" -QTr -l 300M -k 1 -i \"%ASPERA_CONNECT_DIR%\\etc\\asperaweb_id_dsa.openssh\" -W A680AB8C9E5464928A91CA7860799914A52E87C7793EC4E629DD1D8B28B4257A853AE777F884441A8B1841E21EBAD7B59D dbtest@gap-upload.ncbi.nlm.nih.gov:data/instant/account_name/dataset_number .\n"
   ]
  },
  {
   "cell_type": "code",
   "execution_count": null,
   "metadata": {},
   "outputs": [],
   "source": [
    "# edit the link obtained so it looks like this:\n",
    "\n",
    "destination_directory=/destination/directory/here/\n",
    "home_directory=/home_directory/directory/here/\n",
    "\n",
    "$home_directory/.aspera/connect/bin/ascp -QTr -l 300M -k 1 -i $home_directory/.aspera/connect/etc/asperaweb_id_dsa.openssh -W A680AB8C9E5464928A91CA7860799914A52E87C7793EC4E629DD1D8B28B4257A853AE777F884441A8B1841E21EBAD7B59D dbtest@gap-upload.ncbi.nlm.nih.gov:data/instant/account_name/dataset_number $destination_directory"
   ]
  },
  {
   "cell_type": "markdown",
   "metadata": {},
   "source": [
    "### Decrypt the files"
   ]
  },
  {
   "cell_type": "code",
   "execution_count": null,
   "metadata": {
    "scrolled": true
   },
   "outputs": [],
   "source": [
    "# decrypt data folder\n",
    "$destination_directory/sratoolkit.2.11.1-centos_linux64/bin/vdb-decrypt $destination_directory/dataset_number --ngc $repository_key"
   ]
  },
  {
   "cell_type": "code",
   "execution_count": null,
   "metadata": {},
   "outputs": [],
   "source": [
    "destination_directory=~/scratch/Data/dbGaP/\n",
    "repository_key=/cluster/home/earaldi/Scripts/ristow_lab/EA/Metabolites/Psych_diseases/prj_30137.ngc\n",
    "\n",
    "$destination_directory/sratoolkit.2.11.1-centos_linux64/bin/vdb-decrypt $destination_directory/dataset_number --ngc $repository_key"
   ]
  },
  {
   "cell_type": "code",
   "execution_count": null,
   "metadata": {},
   "outputs": [],
   "source": [
    "# Ready for analysis"
   ]
  }
 ],
 "metadata": {
  "kernelspec": {
   "display_name": "Bash",
   "language": "bash",
   "name": "bash"
  },
  "language_info": {
   "codemirror_mode": "shell",
   "file_extension": ".sh",
   "mimetype": "text/x-sh",
   "name": "bash"
  }
 },
 "nbformat": 4,
 "nbformat_minor": 5
}
